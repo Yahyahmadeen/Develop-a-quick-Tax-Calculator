{
 "cells": [
  {
   "cell_type": "markdown",
   "id": "ebbcf343-69ef-4cbf-974e-fe1e619df192",
   "metadata": {},
   "source": [
    "# TAX CALCULATOR"
   ]
  },
  {
   "cell_type": "code",
   "execution_count": 3,
   "id": "9a4e61a1-6037-46de-a35a-da324f9d466b",
   "metadata": {},
   "outputs": [
    {
     "name": "stdin",
     "output_type": "stream",
     "text": [
      "enter your income: 10000\n"
     ]
    },
    {
     "name": "stdout",
     "output_type": "stream",
     "text": [
      "your tax amount is:0\n"
     ]
    }
   ],
   "source": [
    "income = float(input(\"enter your income:\"))\n",
    "if income <= 10000:\n",
    "     tax = 0\n",
    "\n",
    "elif income <=100000:\n",
    "     tax = income*0.01\n",
    "\n",
    "else:\n",
    "     tax = income*0.02\n",
    "\n",
    "print (f\"your tax amount is:{tax}\")\n"
   ]
  },
  {
   "cell_type": "code",
   "execution_count": null,
   "id": "8851198a-ee24-4815-80f0-ce22bc2fdc01",
   "metadata": {},
   "outputs": [],
   "source": []
  }
 ],
 "metadata": {
  "kernelspec": {
   "display_name": "Python 3 (ipykernel)",
   "language": "python",
   "name": "python3"
  },
  "language_info": {
   "codemirror_mode": {
    "name": "ipython",
    "version": 3
   },
   "file_extension": ".py",
   "mimetype": "text/x-python",
   "name": "python",
   "nbconvert_exporter": "python",
   "pygments_lexer": "ipython3",
   "version": "3.12.7"
  }
 },
 "nbformat": 4,
 "nbformat_minor": 5
}
